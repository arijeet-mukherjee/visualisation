{
 "cells": [
  {
   "cell_type": "code",
   "execution_count": 1,
   "metadata": {},
   "outputs": [],
   "source": [
    "import pandas as pd\n",
    "import matplotlib.pyplot as plt\n",
    "import numpy as np\n",
    "#for updating the centroid\n",
    "import copy\n",
    "from matplotlib.animation import FuncAnimation\n",
    "# plt.style.use('ggplot')\n",
    "%matplotlib inline"
   ]
  },
  {
   "cell_type": "code",
   "execution_count": 2,
   "metadata": {},
   "outputs": [],
   "source": [
    "df=pd.DataFrame({'x':[12,13,14,65,34,80,72,42,28,34,56,75,30,18,21,77,63,36,70],\n",
    "                'y':[39,36,53,52,32,30,54,66,63,56,58,73,46,23,8,14,9,7,24]})"
   ]
  },
  {
   "cell_type": "code",
   "execution_count": 3,
   "metadata": {},
   "outputs": [],
   "source": [
    "np.random.seed(200)\n",
    "#assuming we create three different cluster\n",
    "#Chossing three random centeroid of the three cluster\n",
    "k=4\n",
    "centroid={\n",
    "    i+1:[np.random.randint(0,80),np.random.randint(0,80)]\n",
    "    for i in range(k)\n",
    "}"
   ]
  },
  {
   "cell_type": "code",
   "execution_count": 4,
   "metadata": {},
   "outputs": [
    {
     "data": {
      "text/plain": [
       "16"
      ]
     },
     "execution_count": 4,
     "metadata": {},
     "output_type": "execute_result"
    }
   ],
   "source": [
    "centroid[1][1]"
   ]
  },
  {
   "cell_type": "code",
   "execution_count": 5,
   "metadata": {},
   "outputs": [
    {
     "data": {
      "image/png": "[encoded data removed]",
      "text/plain": [
       "<Figure size 360x360 with 1 Axes>"
      ]
     },
     "metadata": {
      "needs_background": "light"
     },
     "output_type": "display_data"
    }
   ],
   "source": [
    "fig=plt.figure(figsize=(5,5))\n",
    "plt.scatter(df['x'],df['y'],color='k')\n",
    "colormap={1:'r',2:'g',3:'b',4:'y'}\n",
    "for i in centroid.keys():\n",
    "    plt.scatter(*centroid[i],color=colormap[i])\n",
    "plt.xlim(0,100)\n",
    "plt.ylim(0,100)\n",
    "plt.show()"
   ]
  },
  {
   "cell_type": "code",
   "execution_count": 6,
   "metadata": {},
   "outputs": [],
   "source": [
    "#Assignment steps\n",
    "def assign(df,centroid):\n",
    "    for i in centroid.keys():\n",
    "        df['Distance_from_{}'.format(i)]=np.sqrt((df['x']-centroid[i][0])**2+(df['y']-centroid[i][1])**2)\n",
    "    centroid_dist_cols=['Distance_from_{}'.format(i) for i in centroid.keys()]\n",
    "    df['closest']=df.loc[:,centroid_dist_cols].idxmin(axis=1)\n",
    "    df['closest']=df['closest'].map(lambda x : int(x.lstrip('Distance_from_')))\n",
    "    df['color']=df['closest'].map(lambda x : colormap[x])\n",
    "    return df"
   ]
  },
  {
   "cell_type": "code",
   "execution_count": 7,
   "metadata": {},
   "outputs": [
    {
     "data": {
      "text/html": [
       "<div>\n",
       "<style scoped>\n",
       "    .dataframe tbody tr th:only-of-type {\n",
       "        vertical-align: middle;\n",
       "    }\n",
       "\n",
       "    .dataframe tbody tr th {\n",
       "        vertical-align: top;\n",
       "    }\n",
       "\n",
       "    .dataframe thead th {\n",
       "        text-align: right;\n",
       "    }\n",
       "</style>\n",
       "<table border=\"1\" class=\"dataframe\">\n",
       "  <thead>\n",
       "    <tr style=\"text-align: right;\">\n",
       "      <th></th>\n",
       "      <th>x</th>\n",
       "      <th>y</th>\n",
       "      <th>Distance_from_1</th>\n",
       "      <th>Distance_from_2</th>\n",
       "      <th>Distance_from_3</th>\n",
       "      <th>Distance_from_4</th>\n",
       "      <th>closest</th>\n",
       "      <th>color</th>\n",
       "    </tr>\n",
       "  </thead>\n",
       "  <tbody>\n",
       "    <tr>\n",
       "      <th>0</th>\n",
       "      <td>12</td>\n",
       "      <td>39</td>\n",
       "      <td>26.925824</td>\n",
       "      <td>56.080300</td>\n",
       "      <td>56.727418</td>\n",
       "      <td>71.512237</td>\n",
       "      <td>1</td>\n",
       "      <td>r</td>\n",
       "    </tr>\n",
       "    <tr>\n",
       "      <th>1</th>\n",
       "      <td>13</td>\n",
       "      <td>36</td>\n",
       "      <td>23.853721</td>\n",
       "      <td>55.326305</td>\n",
       "      <td>58.000000</td>\n",
       "      <td>69.570109</td>\n",
       "      <td>1</td>\n",
       "      <td>r</td>\n",
       "    </tr>\n",
       "    <tr>\n",
       "      <th>2</th>\n",
       "      <td>14</td>\n",
       "      <td>53</td>\n",
       "      <td>38.897301</td>\n",
       "      <td>55.108983</td>\n",
       "      <td>47.010637</td>\n",
       "      <td>75.802375</td>\n",
       "      <td>1</td>\n",
       "      <td>r</td>\n",
       "    </tr>\n",
       "    <tr>\n",
       "      <th>3</th>\n",
       "      <td>65</td>\n",
       "      <td>52</td>\n",
       "      <td>53.075418</td>\n",
       "      <td>10.440307</td>\n",
       "      <td>26.000000</td>\n",
       "      <td>40.496913</td>\n",
       "      <td>2</td>\n",
       "      <td>g</td>\n",
       "    </tr>\n",
       "    <tr>\n",
       "      <th>4</th>\n",
       "      <td>34</td>\n",
       "      <td>32</td>\n",
       "      <td>17.888544</td>\n",
       "      <td>35.440090</td>\n",
       "      <td>48.754487</td>\n",
       "      <td>48.466483</td>\n",
       "      <td>1</td>\n",
       "      <td>r</td>\n",
       "    </tr>\n",
       "    <tr>\n",
       "      <th>5</th>\n",
       "      <td>80</td>\n",
       "      <td>30</td>\n",
       "      <td>55.785303</td>\n",
       "      <td>16.970563</td>\n",
       "      <td>52.354560</td>\n",
       "      <td>16.031220</td>\n",
       "      <td>4</td>\n",
       "      <td>y</td>\n",
       "    </tr>\n",
       "    <tr>\n",
       "      <th>6</th>\n",
       "      <td>72</td>\n",
       "      <td>54</td>\n",
       "      <td>59.665736</td>\n",
       "      <td>12.649111</td>\n",
       "      <td>27.802878</td>\n",
       "      <td>40.607881</td>\n",
       "      <td>2</td>\n",
       "      <td>g</td>\n",
       "    </tr>\n",
       "    <tr>\n",
       "      <th>7</th>\n",
       "      <td>42</td>\n",
       "      <td>66</td>\n",
       "      <td>52.497619</td>\n",
       "      <td>35.383612</td>\n",
       "      <td>16.401219</td>\n",
       "      <td>63.820060</td>\n",
       "      <td>3</td>\n",
       "      <td>b</td>\n",
       "    </tr>\n",
       "    <tr>\n",
       "      <th>8</th>\n",
       "      <td>28</td>\n",
       "      <td>63</td>\n",
       "      <td>47.042534</td>\n",
       "      <td>45.177428</td>\n",
       "      <td>29.966648</td>\n",
       "      <td>70.724819</td>\n",
       "      <td>3</td>\n",
       "      <td>b</td>\n",
       "    </tr>\n",
       "    <tr>\n",
       "      <th>9</th>\n",
       "      <td>34</td>\n",
       "      <td>56</td>\n",
       "      <td>40.792156</td>\n",
       "      <td>36.769553</td>\n",
       "      <td>29.000000</td>\n",
       "      <td>61.554854</td>\n",
       "      <td>3</td>\n",
       "      <td>b</td>\n",
       "    </tr>\n",
       "    <tr>\n",
       "      <th>10</th>\n",
       "      <td>56</td>\n",
       "      <td>58</td>\n",
       "      <td>51.613952</td>\n",
       "      <td>20.000000</td>\n",
       "      <td>18.027756</td>\n",
       "      <td>49.648766</td>\n",
       "      <td>3</td>\n",
       "      <td>b</td>\n",
       "    </tr>\n",
       "    <tr>\n",
       "      <th>11</th>\n",
       "      <td>75</td>\n",
       "      <td>73</td>\n",
       "      <td>75.166482</td>\n",
       "      <td>31.780497</td>\n",
       "      <td>20.223748</td>\n",
       "      <td>59.135438</td>\n",
       "      <td>3</td>\n",
       "      <td>b</td>\n",
       "    </tr>\n",
       "    <tr>\n",
       "      <th>12</th>\n",
       "      <td>30</td>\n",
       "      <td>46</td>\n",
       "      <td>30.265492</td>\n",
       "      <td>38.209946</td>\n",
       "      <td>39.051248</td>\n",
       "      <td>58.523500</td>\n",
       "      <td>1</td>\n",
       "      <td>r</td>\n",
       "    </tr>\n",
       "    <tr>\n",
       "      <th>13</th>\n",
       "      <td>18</td>\n",
       "      <td>23</td>\n",
       "      <td>10.630146</td>\n",
       "      <td>53.488316</td>\n",
       "      <td>64.637450</td>\n",
       "      <td>61.660360</td>\n",
       "      <td>1</td>\n",
       "      <td>r</td>\n",
       "    </tr>\n",
       "    <tr>\n",
       "      <th>14</th>\n",
       "      <td>21</td>\n",
       "      <td>8</td>\n",
       "      <td>9.433981</td>\n",
       "      <td>58.008620</td>\n",
       "      <td>76.026311</td>\n",
       "      <td>58.309519</td>\n",
       "      <td>1</td>\n",
       "      <td>r</td>\n",
       "    </tr>\n",
       "    <tr>\n",
       "      <th>15</th>\n",
       "      <td>77</td>\n",
       "      <td>14</td>\n",
       "      <td>51.039201</td>\n",
       "      <td>29.410882</td>\n",
       "      <td>65.787537</td>\n",
       "      <td>2.000000</td>\n",
       "      <td>4</td>\n",
       "      <td>y</td>\n",
       "    </tr>\n",
       "    <tr>\n",
       "      <th>16</th>\n",
       "      <td>63</td>\n",
       "      <td>9</td>\n",
       "      <td>37.656341</td>\n",
       "      <td>33.376639</td>\n",
       "      <td>67.475922</td>\n",
       "      <td>16.763055</td>\n",
       "      <td>4</td>\n",
       "      <td>y</td>\n",
       "    </tr>\n",
       "    <tr>\n",
       "      <th>17</th>\n",
       "      <td>36</td>\n",
       "      <td>7</td>\n",
       "      <td>13.453624</td>\n",
       "      <td>47.423623</td>\n",
       "      <td>71.568149</td>\n",
       "      <td>43.566042</td>\n",
       "      <td>1</td>\n",
       "      <td>r</td>\n",
       "    </tr>\n",
       "    <tr>\n",
       "      <th>18</th>\n",
       "      <td>70</td>\n",
       "      <td>24</td>\n",
       "      <td>44.721360</td>\n",
       "      <td>18.110770</td>\n",
       "      <td>54.120237</td>\n",
       "      <td>13.453624</td>\n",
       "      <td>4</td>\n",
       "      <td>y</td>\n",
       "    </tr>\n",
       "  </tbody>\n",
       "</table>\n",
       "</div>"
      ],
      "text/plain": [
       "     x   y  Distance_from_1  Distance_from_2  Distance_from_3  \\\n",
       "0   12  39        26.925824        56.080300        56.727418   \n",
       "1   13  36        23.853721        55.326305        58.000000   \n",
       "2   14  53        38.897301        55.108983        47.010637   \n",
       "3   65  52        53.075418        10.440307        26.000000   \n",
       "4   34  32        17.888544        35.440090        48.754487   \n",
       "5   80  30        55.785303        16.970563        52.354560   \n",
       "6   72  54        59.665736        12.649111        27.802878   \n",
       "7   42  66        52.497619        35.383612        16.401219   \n",
       "8   28  63        47.042534        45.177428        29.966648   \n",
       "9   34  56        40.792156        36.769553        29.000000   \n",
       "10  56  58        51.613952        20.000000        18.027756   \n",
       "11  75  73        75.166482        31.780497        20.223748   \n",
       "12  30  46        30.265492        38.209946        39.051248   \n",
       "13  18  23        10.630146        53.488316        64.637450   \n",
       "14  21   8         9.433981        58.008620        76.026311   \n",
       "15  77  14        51.039201        29.410882        65.787537   \n",
       "16  63   9        37.656341        33.376639        67.475922   \n",
       "17  36   7        13.453624        47.423623        71.568149   \n",
       "18  70  24        44.721360        18.110770        54.120237   \n",
       "\n",
       "    Distance_from_4  closest color  \n",
       "0         71.512237        1     r  \n",
       "1         69.570109        1     r  \n",
       "2         75.802375        1     r  \n",
       "3         40.496913        2     g  \n",
       "4         48.466483        1     r  \n",
       "5         16.031220        4     y  \n",
       "6         40.607881        2     g  \n",
       "7         63.820060        3     b  \n",
       "8         70.724819        3     b  \n",
       "9         61.554854        3     b  \n",
       "10        49.648766        3     b  \n",
       "11        59.135438        3     b  \n",
       "12        58.523500        1     r  \n",
       "13        61.660360        1     r  \n",
       "14        58.309519        1     r  \n",
       "15         2.000000        4     y  \n",
       "16        16.763055        4     y  \n",
       "17        43.566042        1     r  \n",
       "18        13.453624        4     y  "
      ]
     },
     "execution_count": 7,
     "metadata": {},
     "output_type": "execute_result"
    }
   ],
   "source": [
    "assign(df,centroid)"
   ]
  },
  {
   "cell_type": "code",
   "execution_count": 8,
   "metadata": {},
   "outputs": [
    {
     "data": {
      "image/png": "[encoded data removed]",
      "text/plain": [
       "<Figure size 360x360 with 1 Axes>"
      ]
     },
     "metadata": {
      "needs_background": "light"
     },
     "output_type": "display_data"
    }
   ],
   "source": [
    "fig=plt.figure(figsize=(5,5))\n",
    "plt.scatter(df['x'],df['y'],color=df['color'],alpha=0.5,edgecolors='k')\n",
    "\n",
    "for i in centroid.keys():\n",
    "    plt.scatter(*centroid[i],color=colormap[i])\n",
    "plt.xlim(0,90)\n",
    "plt.ylim(0,90)\n",
    "plt.show()"
   ]
  },
  {
   "cell_type": "markdown",
   "metadata": {},
   "source": [
    "After executing each asignment block execute update centroid block  \n"
   ]
  },
  {
   "cell_type": "code",
   "execution_count": 9,
   "metadata": {},
   "outputs": [
    {
     "data": {
      "text/plain": [
       "22.25"
      ]
     },
     "execution_count": 9,
     "metadata": {},
     "output_type": "execute_result"
    }
   ],
   "source": [
    "np.mean(df[df['closest']==1]['x'])#just for checking the mean of the gropued cluster for red points"
   ]
  },
  {
   "cell_type": "code",
   "execution_count": 22,
   "metadata": {},
   "outputs": [],
   "source": [
    "df=assign(df,centroid)"
   ]
  },
  {
   "cell_type": "code",
   "execution_count": 23,
   "metadata": {},
   "outputs": [],
   "source": [
    "old_centroid=copy.deepcopy(centroid)\n",
    "def update(k):\n",
    "    for i in k.keys():\n",
    "        centroid[i][0]=np.mean(df[df['closest']==i]['x'])\n",
    "        centroid[i][1]=np.mean(df[df['closest']==i]['y'])\n",
    "    return k\n",
    "centroid=update(centroid)"
   ]
  },
  {
   "cell_type": "code",
   "execution_count": 24,
   "metadata": {},
   "outputs": [
    {
     "data": {
      "image/png": "[encoded data removed]",
      "text/plain": [
       "<Figure size 360x360 with 1 Axes>"
      ]
     },
     "metadata": {
      "needs_background": "light"
     },
     "output_type": "display_data"
    }
   ],
   "source": [
    "fig=plt.figure(figsize=(5,5))\n",
    "plt.scatter(df['x'],df['y'],color=df['color'],alpha=0.5,edgecolors='k')\n",
    "\n",
    "for i in centroid.keys():\n",
    "    plt.scatter(*centroid[i],color=colormap[i])\n",
    "plt.xlim(0,90)\n",
    "plt.ylim(0,90)\n",
    "plt.show()"
   ]
  },
  {
   "cell_type": "code",
   "execution_count": 25,
   "metadata": {},
   "outputs": [],
   "source": [
    "df=assign(df,centroid)"
   ]
  },
  {
   "cell_type": "code",
   "execution_count": 26,
   "metadata": {},
   "outputs": [],
   "source": [
    "old_centroid=copy.deepcopy(centroid)\n",
    "def update(k):\n",
    "    for i in k.keys():\n",
    "        centroid[i][0]=np.mean(df[df['closest']==i]['x'])\n",
    "        centroid[i][1]=np.mean(df[df['closest']==i]['y'])\n",
    "    return k\n",
    "centroid=update(centroid)"
   ]
  },
  {
   "cell_type": "code",
   "execution_count": 27,
   "metadata": {},
   "outputs": [
    {
     "data": {
      "image/png": "[encoded data removed]",
      "text/plain": [
       "<Figure size 360x360 with 1 Axes>"
      ]
     },
     "metadata": {
      "needs_background": "light"
     },
     "output_type": "display_data"
    }
   ],
   "source": [
    "fig=plt.figure(figsize=(5,5))\n",
    "plt.scatter(df['x'],df['y'],color=df['color'],alpha=0.5,edgecolors='k')\n",
    "\n",
    "for i in centroid.keys():\n",
    "    plt.scatter(*centroid[i],color=colormap[i])\n",
    "plt.xlim(0,90)\n",
    "plt.ylim(0,90)\n",
    "plt.show()"
   ]
  },
  {
   "cell_type": "code",
   "execution_count": 28,
   "metadata": {},
   "outputs": [],
   "source": [
    "old_centroid=copy.deepcopy(centroid)\n",
    "def update(k):\n",
    "    for i in k.keys():\n",
    "        centroid[i][0]=np.mean(df[df['closest']==i]['x'])\n",
    "        centroid[i][1]=np.mean(df[df['closest']==i]['y'])\n",
    "    return k\n",
    "centroid=update(centroid)"
   ]
  },
  {
   "cell_type": "code",
   "execution_count": 29,
   "metadata": {},
   "outputs": [
    {
     "data": {
      "text/plain": [
       "{1: [22.333333333333332, 24.166666666666668],\n",
       " 2: [67.0, 59.25],\n",
       " 3: [29.6, 56.8],\n",
       " 4: [72.5, 19.25]}"
      ]
     },
     "execution_count": 29,
     "metadata": {},
     "output_type": "execute_result"
    }
   ],
   "source": [
    "centroid"
   ]
  },
  {
   "cell_type": "code",
   "execution_count": 30,
   "metadata": {},
   "outputs": [
    {
     "data": {
      "image/png": "[encoded data removed]",
      "text/plain": [
       "<Figure size 432x288 with 1 Axes>"
      ]
     },
     "metadata": {
      "needs_background": "light"
     },
     "output_type": "display_data"
    }
   ],
   "source": [
    "for i in centroid.keys():\n",
    "    plt.scatter(*centroid[i],color=colormap[i])\n",
    "plt.show()"
   ]
  },
  {
   "cell_type": "code",
   "execution_count": 31,
   "metadata": {},
   "outputs": [
    {
     "data": {
      "image/png": "[encoded data removed]",
      "text/plain": [
       "<Figure size 360x360 with 1 Axes>"
      ]
     },
     "metadata": {
      "needs_background": "light"
     },
     "output_type": "display_data"
    }
   ],
   "source": [
    "fig=plt.figure(figsize=(5,5))\n",
    "ax=plt.axes()\n",
    "plt.scatter(df['x'],df['y'],color=df['color'],alpha=0.5,edgecolors='k')\n",
    "\n",
    "for i in centroid.keys():\n",
    "    plt.scatter(*centroid[i],color=colormap[i])\n",
    "plt.xlim(0,90)\n",
    "plt.ylim(0,90)\n",
    "for i in old_centroid.keys():\n",
    "    old_x=old_centroid[i][0]\n",
    "    old_y=old_centroid[i][1]\n",
    "    dx=(centroid[i][0]-old_centroid[i][0])*0.75\n",
    "    dy=(centroid[i][1]-old_centroid[i][1])*0.750\n",
    "    ax.arrow(old_x,old_y,dx,dy,head_width=1,head_length=7,fc=colormap[i],ec=colormap[i])\n",
    "plt.show()"
   ]
  },
  {
   "cell_type": "code",
   "execution_count": 32,
   "metadata": {},
   "outputs": [
    {
     "data": {
      "image/png": "[encoded data removed]",
      "text/plain": [
       "<Figure size 360x360 with 1 Axes>"
      ]
     },
     "metadata": {
      "needs_background": "light"
     },
     "output_type": "display_data"
    }
   ],
   "source": [
    "fig=plt.figure(figsize=(5,5))\n",
    "ax=plt.axes()\n",
    "plt.scatter(df['x'],df['y'],color=df['color'],alpha=0.5,edgecolors='k')\n",
    "\n",
    "for i in centroid.keys():\n",
    "    plt.scatter(*centroid[i],color=colormap[i])\n",
    "plt.xlim(0,90)\n",
    "plt.ylim(0,90)\n",
    "for i in old_centroid.keys():\n",
    "    old_x=old_centroid[i][0]\n",
    "    old_y=old_centroid[i][1]\n",
    "    dx=(centroid[i][0]-old_centroid[i][0])*0.75\n",
    "    dy=(centroid[i][1]-old_centroid[i][1])*0.750\n",
    "    ax.arrow(old_x,old_y,dx,dy,head_width=1,head_length=7,fc=colormap[i],ec=colormap[i])\n",
    "    \n",
    "    \n",
    "plt.show()\n"
   ]
  },
  {
   "cell_type": "code",
   "execution_count": 21,
   "metadata": {},
   "outputs": [
    {
     "data": {
      "text/plain": [
       "72.5"
      ]
     },
     "execution_count": 21,
     "metadata": {},
     "output_type": "execute_result"
    }
   ],
   "source": [
    "old_x"
   ]
  },
  {
   "cell_type": "code",
   "execution_count": 200,
   "metadata": {},
   "outputs": [],
   "source": []
  },
  {
   "cell_type": "code",
   "execution_count": 199,
   "metadata": {},
   "outputs": [],
   "source": []
  },
  {
   "cell_type": "code",
   "execution_count": 197,
   "metadata": {},
   "outputs": [],
   "source": []
  },
  {
   "cell_type": "code",
   "execution_count": 203,
   "metadata": {},
   "outputs": [],
   "source": []
  },
  {
   "cell_type": "code",
   "execution_count": 165,
   "metadata": {},
   "outputs": [
    {
     "data": {
      "text/plain": [
       "<Figure size 432x288 with 0 Axes>"
      ]
     },
     "metadata": {},
     "output_type": "display_data"
    }
   ],
   "source": []
  },
  {
   "cell_type": "code",
   "execution_count": 166,
   "metadata": {},
   "outputs": [],
   "source": []
  },
  {
   "cell_type": "code",
   "execution_count": null,
   "metadata": {},
   "outputs": [],
   "source": []
  }
 ],
 "metadata": {
  "kernelspec": {
   "display_name": "Python 3",
   "language": "python",
   "name": "python3"
  },
  "language_info": {
   "codemirror_mode": {
    "name": "ipython",
    "version": 3
   },
   "file_extension": ".py",
   "mimetype": "text/x-python",
   "name": "python",
   "nbconvert_exporter": "python",
   "pygments_lexer": "ipython3",
   "version": "3.7.3"
  }
 },
 "nbformat": 4,
 "nbformat_minor": 2
}
